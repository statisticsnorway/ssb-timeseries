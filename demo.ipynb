{
 "cells": [
  {
   "cell_type": "markdown",
   "id": "9c50b0e4-db10-4714-980e-7e22084178e9",
   "metadata": {
    "tags": []
   },
   "source": [
    "# Import dependencies"
   ]
  },
  {
   "cell_type": "code",
   "execution_count": null,
   "id": "23ce7d5e-d83a-4b80-8093-9c1232f38fc8",
   "metadata": {
    "tags": []
   },
   "outputs": [],
   "source": [
    "!pwd\n",
    "import os\n",
    "import sys\n",
    "\n",
    "import numpy as np\n",
    "import pandas as pd\n",
    "\n",
    "from datetime import datetime\n",
    "from datetime import timedelta\n",
    "import uuid\n",
    "\n",
    "sys.path.insert(0, os.path.abspath('~/code/arkitektur-poc-tidsserier/src'))\n",
    "sys.path"
   ]
  },
  {
   "cell_type": "markdown",
   "id": "ed7c5533-d8ab-447f-af0e-898ced7d49ea",
   "metadata": {
    "tags": []
   },
   "source": [
    "# Import Timeseries "
   ]
  },
  {
   "cell_type": "code",
   "execution_count": null,
   "id": "03d7fb6d-7f7f-4e04-9a6d-e13b6588e8b3",
   "metadata": {
    "tags": []
   },
   "outputs": [],
   "source": [
    "from ssb_timeseries.dataset import Dataset\n",
    "from ssb_timeseries.properties import SeriesType, Versioning, Temporality\n",
    "from ssb_timeseries.sample_data import create_df"
   ]
  },
  {
   "cell_type": "markdown",
   "id": "9bed2e21",
   "metadata": {},
   "source": [
    "Environment variables control where time series and logs are stored.\n",
    "\n",
    "If they are not set, timeseries.io and timeseries.logging will attempt to use default values `/home/jovyan/series/` and `/home/jovyan/logs/`, but this will fail if the directories do not exist."
   ]
  },
  {
   "cell_type": "markdown",
   "id": "582c16fb",
   "metadata": {},
   "source": []
  },
  {
   "cell_type": "code",
   "execution_count": null,
   "id": "f22cbf3b",
   "metadata": {},
   "outputs": [],
   "source": [
    "# For some reason this does not work as expected: \n",
    "os.environ.get('TIMESERIES_ROOT', '/home/jovyan/series/')\n",
    "os.environ.get('LOG_LOCATION', '/home/jovyan/logs')\n",
    "print(f\"{os.environ.get('LOG_LOCATION')} & {os.environ.get('TIMESERIES_ROOT')}\")"
   ]
  },
  {
   "cell_type": "code",
   "execution_count": null,
   "id": "8e2240d3",
   "metadata": {},
   "outputs": [],
   "source": [
    "# ... but this does the trick:\n",
    "os.environ['TIMESERIES_ROOT'] = '/home/jovyan/series/'\n",
    "os.environ['LOG_LOCATION'] = '/home/jovyan/logs'\n",
    "\n",
    "print(f\"{os.environ.get('LOG_LOCATION')} & {os.environ.get('TIMESERIES_ROOT')}\")"
   ]
  },
  {
   "cell_type": "markdown",
   "id": "56eed12d-36e3-4507-b4f0-276fc4b7dbbe",
   "metadata": {
    "tags": []
   },
   "source": [
    "# Create a new set"
   ]
  },
  {
   "cell_type": "code",
   "execution_count": null,
   "id": "1178c32f-7269-475e-8009-a847fa185a7e",
   "metadata": {
    "tags": []
   },
   "outputs": [],
   "source": [
    "set_name = \"demo-5\"\n",
    "#set_name = f\"test-dataset-xxx\"\n",
    "as_of = \"2023-12-08\"\n",
    "x = Dataset(name=set_name, data_type=SeriesType.estimate(), as_of_tz=as_of)\n",
    "print(x)"
   ]
  },
  {
   "cell_type": "markdown",
   "id": "6cdf51db-cb56-4130-94c4-6bf0baaf6c04",
   "metadata": {
    "tags": []
   },
   "source": [
    "... note how `SeriesType.estimate()` translates to (or is defined as) `SeriesType(Versioning.AS_OF,Temporality.AT)`."
   ]
  },
  {
   "cell_type": "code",
   "execution_count": null,
   "id": "08038ff5-1aa2-43a2-bb65-dc3cd0dbea99",
   "metadata": {
    "tags": []
   },
   "outputs": [],
   "source": [
    "print(x)\n",
    "print(x.data.shape)\n",
    "x.data\n"
   ]
  },
  {
   "cell_type": "markdown",
   "id": "a99378a9-8417-41e6-82a9-062d599e7217",
   "metadata": {
    "tags": []
   },
   "source": [
    "Note that if x is a new dataset, the output shows `'data': 0`; meaning there are 0 datapoints defined for `x.as_of_utc` - `x.data.shape = 0`"
   ]
  },
  {
   "cell_type": "code",
   "execution_count": null,
   "id": "b1b7937f-dae3-44bd-b684-a0858de00a80",
   "metadata": {
    "tags": []
   },
   "outputs": [],
   "source": [
    "#tags = {\"A\": [\"JAE\", \"JA\", \"JEL\", \"JE\", \"\"], \"B\": [\"p\", \"q\", \"r\"], \"C\": [\"x\", \"y\", \"z\"]}\n",
    "#tag_values = [value for value in tags.values()]\n",
    "x.data = create_df(\n",
    "    ['p', 'q','r'],\n",
    "    start_date=\"2022-01-01\",\n",
    "    end_date=\"2023-01-01\",\n",
    "    freq=\"H\",\n",
    ")\n",
    "# and take a look at the data:\n",
    "print(x)\n",
    "x.data"
   ]
  },
  {
   "cell_type": "markdown",
   "id": "3cb38ace-8aba-46f0-adae-7917b584ab71",
   "metadata": {},
   "source": [
    "Now `x.data` is non-empty, but only in memory. Rerunning init will loose the data and loading the same set does not return anything."
   ]
  },
  {
   "cell_type": "code",
   "execution_count": null,
   "id": "7a895ad8-48dc-4bb8-af2f-50a20ac730e9",
   "metadata": {},
   "outputs": [],
   "source": [
    "y = Dataset(name=set_name, data_type=SeriesType.estimate(), as_of_tz=as_of)\n",
    "print(y)"
   ]
  },
  {
   "cell_type": "markdown",
   "id": "454ee5e3-be2f-4c7d-a8b6-f93f62f3b7de",
   "metadata": {},
   "source": [
    "Save to store the data to disk. Now, initialising again with the same parameters will read from disk:"
   ]
  },
  {
   "cell_type": "code",
   "execution_count": null,
   "id": "634bd0a8-518f-4b5b-8032-06c7ca8caa62",
   "metadata": {},
   "outputs": [],
   "source": [
    "x.save()\n",
    "# after save, initialising again with the same parameters will read from disk"
   ]
  },
  {
   "cell_type": "markdown",
   "id": "406d444d-5116-475e-8d01-db628efdd994",
   "metadata": {},
   "source": [
    "Take a closer look at the data:"
   ]
  },
  {
   "cell_type": "code",
   "execution_count": null,
   "id": "b798e100-8145-4761-a15c-60a47ba289b7",
   "metadata": {},
   "outputs": [],
   "source": [
    "print(x.data.shape)\n",
    "x.data"
   ]
  },
  {
   "cell_type": "markdown",
   "id": "2f76a339-dda3-458e-9fe7-8ad6c6d20431",
   "metadata": {
    "tags": []
   },
   "source": [
    "... but y is a different object, so is still empty:"
   ]
  },
  {
   "cell_type": "code",
   "execution_count": null,
   "id": "08e4a97f-a27d-4824-8217-8002e2c7a45a",
   "metadata": {},
   "outputs": [],
   "source": [
    "print(y.data.shape)"
   ]
  },
  {
   "cell_type": "markdown",
   "id": "d369dd89-36cc-4ca8-8c3b-bf299a63366c",
   "metadata": {
    "tags": []
   },
   "source": [
    "... unless initiated, ie read from disk."
   ]
  },
  {
   "cell_type": "code",
   "execution_count": null,
   "id": "d358f059-327f-4d60-a535-5ed777666c05",
   "metadata": {},
   "outputs": [],
   "source": [
    "y = Dataset(name=set_name, data_type=SeriesType.estimate(), as_of_tz=as_of)\n",
    "print(y.data.shape)"
   ]
  },
  {
   "cell_type": "code",
   "execution_count": null,
   "id": "7c7ee860-44da-463e-80af-6cd9cfaf4f56",
   "metadata": {},
   "outputs": [],
   "source": [
    "all(x == y)"
   ]
  },
  {
   "cell_type": "markdown",
   "id": "f8a49b78-3eac-4471-88c0-1b1920c3f3c1",
   "metadata": {},
   "source": [
    "# Slightly more interesting data"
   ]
  },
  {
   "cell_type": "code",
   "execution_count": null,
   "id": "c730129e-87b5-4925-a0e2-bcabce989603",
   "metadata": {
    "tags": []
   },
   "outputs": [],
   "source": [
    "tags = {\"Mål\": [\"pris\", \"mengde\"], \"Varer\": [\"melk\", \"egg\", \"brød\"]}\n",
    "\n",
    "for d in [\"2023-01-01\", \"2023-02-01\", \"2023-03-01\", \"2023-04-01\", \"2023-05-01\", \"2023-06-01\", \"2023-07-01\", \"2023-08-01\", \"2023-09-01\"]:\n",
    "    some_data = create_df(\n",
    "        *[value for value in tags.values()],\n",
    "        start_date=\"2024-01-01\",\n",
    "        end_date=\"2025-01-01\",\n",
    "        freq=\"M\",\n",
    "    )\n",
    "    Dataset(name=\"demo-varehandel\", data_type=SeriesType.estimate(), as_of_tz=d, data=some_data*2).save()"
   ]
  },
  {
   "cell_type": "code",
   "execution_count": null,
   "id": "0ff4eb14-d67c-402e-ba14-ae9edf793745",
   "metadata": {},
   "outputs": [],
   "source": [
    "februartall = Dataset(name=\"demo-varehandel\", data_type=SeriesType.estimate(), as_of_tz=\"2023-02-01\")\n",
    "julitall = Dataset(name=\"demo-varehandel\", data_type=SeriesType.estimate(), as_of_tz=\"2023-07-01\")"
   ]
  },
  {
   "cell_type": "code",
   "execution_count": null,
   "id": "b6436d2f-b0ab-48c1-852b-1873d593ff07",
   "metadata": {},
   "outputs": [],
   "source": [
    "februartall.data"
   ]
  },
  {
   "cell_type": "code",
   "execution_count": null,
   "id": "0610ec14-58be-45de-b702-ee5a2d125c76",
   "metadata": {},
   "outputs": [],
   "source": [
    "julitall.data"
   ]
  },
  {
   "cell_type": "code",
   "execution_count": null,
   "id": "63835023-7b75-425d-9f74-d9ab571f6884",
   "metadata": {},
   "outputs": [],
   "source": [
    "februartall - julitall"
   ]
  },
  {
   "cell_type": "markdown",
   "id": "7e097862-d213-42d4-a854-e6b877693338",
   "metadata": {},
   "source": [
    "... OK, not that exiting. To emphasize the intended relationship between series meta data and column (set internal series) names: "
   ]
  },
  {
   "cell_type": "code",
   "execution_count": null,
   "id": "e599b44c-69fb-4a5a-b2bd-0fb38852c5d8",
   "metadata": {
    "tags": []
   },
   "outputs": [],
   "source": [
    "tags = {\"Mål\": [\"pris\", \"mengde\"], \\\n",
    "        \"Varer\": [\"melk\", \"egg\", \"brød\"], \\\n",
    "        \"Butikk\": [\"Rema\", \"Coop\", \"Norgesgr\"], \\\n",
    "        \"Region\": [\"Trndlg\", \"Vstlnd\", \"Agder\", \"VfldTmrk\", \"Innlndt\", \"Viken\", \"TrmsFmrk\"]}\n",
    "\n",
    "example = create_df(\n",
    "    *[value for value in tags.values()],\n",
    "    start_date=\"2023-12-01\",\n",
    "    \n",
    "    end_date=\"2024-01-01\",\n",
    "    freq=\"M\",\n",
    ")\n",
    "example.transpose()"
   ]
  },
  {
   "cell_type": "markdown",
   "id": "540859a5-dd38-4f29-b478-70e673c39051",
   "metadata": {},
   "source": [
    "# Data access"
   ]
  },
  {
   "cell_type": "markdown",
   "id": "971c02b7-e69a-4f01-a935-b95e4d2c0b37",
   "metadata": {},
   "source": [
    "Since `.data` is a Pandas dataframe, we can access it by way of all the standard methods, eg:"
   ]
  },
  {
   "cell_type": "code",
   "execution_count": null,
   "id": "305f7a2a-3257-458f-962f-3b2ec55ef26a",
   "metadata": {},
   "outputs": [],
   "source": [
    "februartall.data.iloc[:, [0,2,]]"
   ]
  },
  {
   "cell_type": "code",
   "execution_count": null,
   "id": "73eaa673-3ad7-4345-a83a-f31e02cbc60a",
   "metadata": {},
   "outputs": [],
   "source": [
    "februartall.data.iloc[:3,2:]"
   ]
  },
  {
   "cell_type": "code",
   "execution_count": null,
   "id": "83d36270-6da1-4d37-9c9f-80fab90e6386",
   "metadata": {},
   "outputs": [],
   "source": [
    "februartall.data.loc[:9, ['valid_at', 'mengde_egg']]"
   ]
  },
  {
   "cell_type": "markdown",
   "id": "d3ad119a-b621-42d1-83bd-019fa19ca23d",
   "metadata": {
    "tags": []
   },
   "source": [
    "Since this is standard Pandas, it comes with the standard Pandas quirks:"
   ]
  },
  {
   "cell_type": "code",
   "execution_count": null,
   "id": "e8643575-080a-4e31-a458-4796b90915df",
   "metadata": {
    "tags": []
   },
   "outputs": [],
   "source": [
    "februartall.data.loc[:, 'pris_brød']"
   ]
  },
  {
   "cell_type": "code",
   "execution_count": null,
   "id": "38afdaa9-29fa-4d3c-86fa-bfb7a498a416",
   "metadata": {},
   "outputs": [],
   "source": [
    "februartall.data.loc[:, ['pris_brød']]"
   ]
  },
  {
   "cell_type": "code",
   "execution_count": null,
   "id": "1df757bc-f9cf-4d34-b80e-c7303e274f83",
   "metadata": {},
   "outputs": [],
   "source": [
    "februartall * 100"
   ]
  },
  {
   "cell_type": "code",
   "execution_count": null,
   "id": "cc80c79c-2143-4904-b2a7-4c13a430babb",
   "metadata": {},
   "outputs": [],
   "source": [
    "februartall.data - julitall.data"
   ]
  },
  {
   "cell_type": "markdown",
   "id": "c8ff0a79-f024-4c9c-9f70-c7ab6fe0426d",
   "metadata": {},
   "source": [
    "... for convenience we expose (some) of the same operations for the dataset object "
   ]
  },
  {
   "cell_type": "code",
   "execution_count": null,
   "id": "27df2f0d-f874-45ee-8ffc-34a42cdf6595",
   "metadata": {},
   "outputs": [],
   "source": [
    "diff = februartall - julitall \n",
    "diff"
   ]
  },
  {
   "cell_type": "markdown",
   "id": "dac6cdd7-4782-468e-9d4d-0f4b1288febd",
   "metadata": {},
   "source": [
    "Note that the above operation returns a dataframe, not a Dataset object."
   ]
  },
  {
   "cell_type": "markdown",
   "id": "2c0f2b62-33e7-4407-a9e1-d3da632559f2",
   "metadata": {},
   "source": [
    "This should probably be changed. Linear algebra implementation is work in progress."
   ]
  },
  {
   "cell_type": "markdown",
   "id": "1be442e3-df3d-4418-8d41-235208018e98",
   "metadata": {},
   "source": [
    "# Plotting"
   ]
  },
  {
   "cell_type": "markdown",
   "id": "fbb53fae-f253-4ec8-9c5a-2f8e1077fd9a",
   "metadata": {},
   "source": [
    "Basic plotting functionality also works in the usual way."
   ]
  },
  {
   "cell_type": "code",
   "execution_count": null,
   "id": "6493bf3b-0f29-44cb-a572-71c9b84272d2",
   "metadata": {},
   "outputs": [],
   "source": [
    "julitall.data.plot()"
   ]
  },
  {
   "cell_type": "markdown",
   "id": "1625c831-6b22-41da-b8ce-f5fb0053be42",
   "metadata": {},
   "source": [
    "The defaults are not good, though, so more sensible parameters are needed."
   ]
  },
  {
   "cell_type": "code",
   "execution_count": null,
   "id": "54cf786c-bd98-481d-a463-38a4369c0c36",
   "metadata": {},
   "outputs": [],
   "source": [
    "ax_x0 = julitall.data.plot('valid_at', legend=len(y.data.columns)<9, title=x.name, figsize=(12, 4))"
   ]
  },
  {
   "cell_type": "code",
   "execution_count": null,
   "id": "b1b31f07-a528-406d-adfb-551dc114ed81",
   "metadata": {},
   "outputs": [],
   "source": [
    "# ... the above are implemented in the convenience method:\n",
    "ax_x = julitall.plot()"
   ]
  },
  {
   "cell_type": "code",
   "execution_count": null,
   "id": "4cc3a8c5-64da-4478-a1a2-68df7b748a90",
   "metadata": {},
   "outputs": [],
   "source": [
    "# the axes object may be used in all the usual ways, eg additional parameters\n",
    "ax_x = julitall.plot(xlabel='')"
   ]
  },
  {
   "cell_type": "code",
   "execution_count": null,
   "id": "e7bbe3d5-5fb1-42c4-b6c6-88c3eb9fd6cd",
   "metadata": {},
   "outputs": [],
   "source": [
    "# plot only a couple of named series\n",
    "julitall.plot(['pris_melk','pris_brød'])\n",
    "\n"
   ]
  },
  {
   "cell_type": "code",
   "execution_count": null,
   "id": "2dd1e08c-b57a-4326-bac7-cc05be31ed13",
   "metadata": {},
   "outputs": [],
   "source": []
  },
  {
   "cell_type": "code",
   "execution_count": null,
   "id": "b105a1ca-3170-41fe-b934-680a4f217420",
   "metadata": {
    "tags": []
   },
   "outputs": [],
   "source": [
    "x.data"
   ]
  },
  {
   "cell_type": "markdown",
   "id": "76d3a450-23aa-45d6-95b0-e9bea9c2c894",
   "metadata": {},
   "source": [
    "Pandas comes with time aggregation features "
   ]
  },
  {
   "cell_type": "code",
   "execution_count": null,
   "id": "2ad010e2-c78a-4811-932f-687db2228b26",
   "metadata": {},
   "outputs": [],
   "source": [
    "x.data.groupby(pd.PeriodIndex(x.data['valid_at'], freq='M')).sum(numeric_only=True)"
   ]
  },
  {
   "cell_type": "markdown",
   "id": "01a5911d-fdf2-44a5-ad06-666a8e9372ba",
   "metadata": {
    "tags": []
   },
   "source": [
    "... which may again be exposed at the Dataset level: "
   ]
  },
  {
   "cell_type": "code",
   "execution_count": null,
   "id": "e1832385-211c-4e6f-a4ca-a722c83b0c8b",
   "metadata": {
    "tags": []
   },
   "outputs": [],
   "source": [
    "x.groupby('Q','auto')"
   ]
  },
  {
   "cell_type": "markdown",
   "id": "3f73e943-6f49-4447-a428-5af145ae6f81",
   "metadata": {
    "tags": []
   },
   "source": [
    "But we can also create our own fun stuff. "
   ]
  },
  {
   "cell_type": "code",
   "execution_count": null,
   "id": "f383715c-dc1d-45ed-b28c-f0cbc227f518",
   "metadata": {},
   "outputs": [],
   "source": [
    "x.vectors()"
   ]
  },
  {
   "cell_type": "markdown",
   "id": "12a49f06-fc54-4785-980f-e06fdd15740d",
   "metadata": {},
   "source": [
    "Oooops? What did this do? "
   ]
  },
  {
   "cell_type": "markdown",
   "id": "1bf50bca-cd5e-4a26-a0e0-4ed36e70f2f2",
   "metadata": {},
   "source": [
    "Read the fine print: `p = self.data['p']`"
   ]
  },
  {
   "cell_type": "code",
   "execution_count": null,
   "id": "7b66460e-8c6f-4cdc-8361-3d7666639038",
   "metadata": {
    "tags": []
   },
   "outputs": [],
   "source": [
    "p"
   ]
  },
  {
   "cell_type": "code",
   "execution_count": null,
   "id": "9f59cf5f-f5a9-4ae2-87d7-f53f7c648473",
   "metadata": {
    "tags": []
   },
   "outputs": [],
   "source": [
    "p * q * r"
   ]
  },
  {
   "cell_type": "markdown",
   "id": "cb29a896-614b-4dfd-a707-dae082684d92",
   "metadata": {},
   "source": [
    "Ie, creating a variable per column header and assigning values accordingly."
   ]
  },
  {
   "cell_type": "code",
   "execution_count": null,
   "id": "1b94b49d-f9ba-4824-b3b7-3e7eb082f009",
   "metadata": {
    "tags": []
   },
   "outputs": [],
   "source": [
    "julitall.vectors('pris')"
   ]
  },
  {
   "cell_type": "code",
   "execution_count": null,
   "id": "47617854-f456-4daa-b05a-2806226adc83",
   "metadata": {
    "tags": []
   },
   "outputs": [],
   "source": [
    "pris_melk"
   ]
  },
  {
   "cell_type": "markdown",
   "id": "f0b4dfcc-aa2b-4e29-be8a-44409c5abaf3",
   "metadata": {},
   "source": [
    "... but not:"
   ]
  },
  {
   "cell_type": "code",
   "execution_count": null,
   "id": "bac89586-1463-4901-921c-c98cec694731",
   "metadata": {},
   "outputs": [],
   "source": [
    "mengde_melk"
   ]
  },
  {
   "cell_type": "markdown",
   "id": "1d170a6b-1547-4bc2-a7d3-c80bd3726a47",
   "metadata": {},
   "source": [
    "Be careful! This one can have nasty side effects if column names happen to match to variables or objects that already exist in the workspace:"
   ]
  },
  {
   "cell_type": "code",
   "execution_count": null,
   "id": "f75af48c-4d10-4740-9378-dd54b35ebd1f",
   "metadata": {},
   "outputs": [],
   "source": [
    "p = 'some variable with other content'\n",
    "p"
   ]
  },
  {
   "cell_type": "code",
   "execution_count": null,
   "id": "f2404793-7463-4410-b5c1-3959adf52e59",
   "metadata": {
    "tags": []
   },
   "outputs": [],
   "source": [
    "x.vectors()\n",
    "p"
   ]
  },
  {
   "cell_type": "code",
   "execution_count": null,
   "id": "e8254758-2172-4cbd-9c86-7c320f9d35fb",
   "metadata": {},
   "outputs": [],
   "source": []
  },
  {
   "cell_type": "code",
   "execution_count": null,
   "id": "a0948e6d-804e-4981-87be-96c7df3de581",
   "metadata": {},
   "outputs": [],
   "source": []
  },
  {
   "cell_type": "code",
   "execution_count": null,
   "id": "d2ca1975-6ebf-40ec-88ce-049f555cb3fb",
   "metadata": {},
   "outputs": [],
   "source": []
  },
  {
   "cell_type": "code",
   "execution_count": null,
   "id": "b8584c0b-cd5b-4748-8fa2-38d70c7c67ff",
   "metadata": {},
   "outputs": [],
   "source": [
    "#tags = {\"A\": [\"JAE\", \"JA\", \"JEL\", \"JE\", \"\"], \"B\": [\"indeks\"], \"C\": [\"pris\", \"antall\", \"vekt\"]}\n",
    "tags_priser = {\"Mål\": [\"pris\", \"antall\", \"vekt\"], \"Varer\": [\"melk\", \"brød\"]}\n",
    "tags_mengder = {\"Mål\": [\"antall\", \"vekt\"], \"Varer\": [\"melk\", \"brød\"]}\n",
    "#tag_values = [value for value in tags.values()]\n",
    "\n",
    "for d in [\"2023-01-01\", \"2023-02-01\", \"2023-03-01\", \"2023-04-01\"]:\n",
    "    some_data = create_df(\n",
    "        *[value for value in tags.values()],\n",
    "        start_date=\"2024-01-01\",\n",
    "        end_date=\"2025-01-01\",\n",
    "        freq=\"M\",\n",
    "    )\n",
    "    x = Dataset(name=\"demo-1\", data_type=SeriesType.estimate(), as_of_tz=d, data=some_data)\n",
    "    x.save()\n",
    "\n",
    "y = Dataset(name=\"demo-1\", data_type=SeriesType.estimate(), as_of_tz=\"2023-02-01\")\n",
    "\n",
    "print(x.as_of_utc)\n",
    "print(y.as_of_utc)"
   ]
  },
  {
   "cell_type": "code",
   "execution_count": null,
   "id": "9eca098c-9409-4dfe-9b5e-af59f24609f0",
   "metadata": {},
   "outputs": [],
   "source": [
    "ax = x.plot()\n",
    "(x - y).plot('valid_at', legend=len(y.data.columns)<9, title=x.name, figsize=(12, 4))\n",
    "print(x.data.columns)\n",
    "col = [xx in x.data.columns]\n",
    "[c for c in col if c.contains('pris')]\n",
    "x.data.columns.filter('pris_')\n",
    "#df.loc[:, df.columns.isin(['nnn', 'mmm', 'yyy', 'zzzzzz'])]\n"
   ]
  },
  {
   "cell_type": "code",
   "execution_count": null,
   "id": "8b0ed280-a493-498e-a48c-41d07aa2e295",
   "metadata": {
    "tags": []
   },
   "outputs": [],
   "source": [
    "y.as_of_utc += timedelta(days=1) \n",
    "y.as_of_utc \n"
   ]
  },
  {
   "cell_type": "code",
   "execution_count": null,
   "id": "2d6ebb0d-2d28-4b51-ba7f-6a171930ee18",
   "metadata": {
    "tags": []
   },
   "outputs": [],
   "source": [
    "y.data"
   ]
  },
  {
   "cell_type": "code",
   "execution_count": null,
   "id": "d0361ec4",
   "metadata": {},
   "outputs": [],
   "source": []
  },
  {
   "cell_type": "code",
   "execution_count": null,
   "id": "64f92440",
   "metadata": {},
   "outputs": [],
   "source": []
  },
  {
   "cell_type": "code",
   "execution_count": null,
   "id": "7e6dd179",
   "metadata": {},
   "outputs": [],
   "source": []
  },
  {
   "cell_type": "code",
   "execution_count": null,
   "id": "770d1b12",
   "metadata": {},
   "outputs": [],
   "source": []
  },
  {
   "cell_type": "code",
   "execution_count": null,
   "id": "4f0d11d1",
   "metadata": {},
   "outputs": [],
   "source": []
  },
  {
   "cell_type": "markdown",
   "id": "546df2a6",
   "metadata": {
    "tags": []
   },
   "source": [
    "# Experimental stuff / playground"
   ]
  },
  {
   "cell_type": "code",
   "execution_count": null,
   "id": "f86298e2",
   "metadata": {
    "tags": []
   },
   "outputs": [],
   "source": [
    "x.data.resample(level='M', axis=1).sum()"
   ]
  },
  {
   "cell_type": "code",
   "execution_count": null,
   "id": "b6640c2c",
   "metadata": {
    "tags": []
   },
   "outputs": [],
   "source": [
    "from ssb_timeseries import io \n",
    "\n",
    "import glob\n",
    "#for f in glob.glob('/path/**/*.c', recursive=True):\n",
    "for f in glob.glob(dataset.io.TIMESERIES_ROOT, recursive=True):\n",
    "    print(f)"
   ]
  }
 ],
 "metadata": {
  "language_info": {
   "codemirror_mode": {
    "name": "ipython"
   },
   "file_extension": ".py",
   "mimetype": "text/x-python",
   "name": "python",
   "nbconvert_exporter": "python"
  }
 },
 "nbformat": 4,
 "nbformat_minor": 5
}
